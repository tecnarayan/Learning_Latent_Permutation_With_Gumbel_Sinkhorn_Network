{
 "cells": [
  {
   "cell_type": "code",
   "execution_count": 1,
   "id": "39dfce9b-1b3d-4d41-898c-24b95bf31e13",
   "metadata": {},
   "outputs": [
    {
     "name": "stderr",
     "output_type": "stream",
     "text": [
      "/home/adwai/anaconda3/envs/gnr1/lib/python3.7/site-packages/tqdm/auto.py:21: TqdmWarning: IProgress not found. Please update jupyter and ipywidgets. See https://ipywidgets.readthedocs.io/en/stable/user_install.html\n",
      "  from .autonotebook import tqdm as notebook_tqdm\n"
     ]
    }
   ],
   "source": [
    "import os, sys\n",
    "import logging\n",
    "import numpy as np\n",
    "import torch\n",
    "import torch.optim as optim\n",
    "import torch.nn.functional as F\n",
    "from torch.utils.data import DataLoader\n",
    "from model import PatchModel, PatchGroupingNet, ConvModel, DifferentiablePatchGrouping\n",
    "from dataset_builder import build_dataset\n",
    "from puzzle_utils import batch_tch_divide_image, reconstruct_image_from_groups, get_groups, model_based_grouping\n",
    "import matplotlib.pyplot as plt\n",
    "from utils import gumbel_sinkhorn_ops, metric"
   ]
  },
  {
   "cell_type": "code",
   "execution_count": 2,
   "id": "b1820222",
   "metadata": {},
   "outputs": [],
   "source": [
    "class CFG:\n",
    "    def __init__(self):\n",
    "        self.root = \"./data\" \n",
    "        self.out_dir = \"./log\"\n",
    "        # optimizer option\n",
    "        self.epochs = 4 \n",
    "        self.lr = 1e-3 \n",
    "        self.batch_size=1 \n",
    "        self.num_workers=8 \n",
    "        # dataset option\n",
    "        self.dataset = \"MNIST\" \n",
    "        self.pieces = 8 \n",
    "        self.groups = 4 \n",
    "        self.image_size = 32\n",
    "        # model parameter option\n",
    "        self.hid_c = 64 \n",
    "        self.stride = 1 \n",
    "        self.kernel_size = 5 \n",
    "        # Gumbel sinkhorn option\n",
    "        self.tau = 1.0\n",
    "        self.n_sink_iter = 20 \n",
    "        self.n_samples = 5 \n",
    "        # misc option\n",
    "        self.display = 50 \n",
    "        self.eval_only = False \n",
    "\n",
    "cfg = CFG()"
   ]
  },
  {
   "cell_type": "code",
   "execution_count": 3,
   "id": "17b3a53a",
   "metadata": {},
   "outputs": [],
   "source": [
    "if not os.path.exists(cfg.out_dir):\n",
    "    os.makedirs(cfg.out_dir, exist_ok=True)  # Use makedirs with exist_ok flag for better error handling\n",
    "\n",
    "# logger setup\n",
    "logging.basicConfig(\n",
    "    filename=os.path.join(cfg.out_dir, \"console.log\"),\n",
    ")\n",
    "plain_formatter = logging.Formatter(\n",
    "    \"[%(asctime)s] %(name)s %(levelname)s: %(message)s\", datefmt=\"%m/%d %H:%M:%S\"\n",
    ")\n",
    "logger = logging.getLogger(\"JigsawPuzzle\")\n",
    "logger.setLevel(logging.DEBUG)\n",
    "ch = logging.StreamHandler(stream=sys.stdout)\n",
    "ch.setLevel(logging.DEBUG)\n",
    "formatter = plain_formatter\n",
    "ch.setFormatter(formatter)\n",
    "logger.addHandler(ch)\n",
    "\n",
    "if not cfg.eval_only:\n",
    "    pass\n",
    "    # train_results = train(cfg)"
   ]
  },
  {
   "cell_type": "code",
   "execution_count": 4,
   "id": "6e558c3a",
   "metadata": {},
   "outputs": [],
   "source": [
    "logger = logging.getLogger(\"JigsawPuzzle\")\n",
    "\n",
    "device = \"cuda\" if torch.cuda.is_available() else \"cpu\"\n",
    "if device == \"cuda\":\n",
    "    torch.backends.cudnn.benchmark = True\n",
    "in_c = 1 if cfg.dataset == \"MNIST\" else 3\n",
    "\n",
    "model_patch = ConvModel(in_c, cfg.pieces // cfg.groups, cfg.image_size // cfg.groups, cfg.hid_c, cfg.stride, cfg.kernel_size)\n",
    "model_group = ConvModel(in_c, cfg.groups, cfg.image_size, cfg.hid_c, cfg.stride, cfg.kernel_size)\n",
    "# model_grouping = PatchGroupingNet(patch_size=cfg.image_size//cfg.pieces, num_groups=cfg.groups**2)\n",
    "model_grouping = DifferentiablePatchGrouping(num_groups=cfg.groups**2)\n",
    "model_patch.load_state_dict(torch.load(os.path.join(cfg.out_dir, \"model_patch.pth\")))\n",
    "model_group.load_state_dict(torch.load(os.path.join(cfg.out_dir, \"model_group.pth\")))\n",
    "# model_grouping.load_state_dict(torch.load(os.path.join(cfg.out_dir, \"model_grouping.pth\")))\n",
    "model_patch = model_patch.to(device).eval()\n",
    "model_group = model_group.to(device).eval()\n",
    "model_grouping = model_grouping.to(device).eval()\n",
    "\n",
    "# Load data\n",
    "eval_data = build_dataset(cfg, split=\"test\")\n",
    "loader = DataLoader(eval_data, cfg.batch_size, shuffle=False, num_workers=cfg.num_workers, drop_last=False)"
   ]
  },
  {
   "cell_type": "code",
   "execution_count": 23,
   "id": "22079155",
   "metadata": {},
   "outputs": [
    {
     "name": "stdout",
     "output_type": "stream",
     "text": [
      "torch.Size([1, 1, 32, 32])\n",
      "torch.Size([32, 32])\n"
     ]
    }
   ],
   "source": [
    "inputs = None\n",
    "pieces = None\n",
    "random_pieces = None\n",
    "for i, data in enumerate(loader):\n",
    "    if i <= 1:\n",
    "        continue\n",
    "    inputs, _ = data\n",
    "    if cfg.image_size > 28:\n",
    "        inputs = F.interpolate(inputs, size=(cfg.image_size, cfg.image_size), mode='bilinear', align_corners=False)\n",
    "    pieces, random_pieces, perm_index = batch_tch_divide_image(inputs, cfg.pieces)\n",
    "    pieces, random_pieces = pieces.to(device), random_pieces.to(device)\n",
    "    break\n",
    "\n",
    "print(inputs.shape)\n",
    "image = inputs[0, 0, :, :]\n",
    "print(image.shape)"
   ]
  },
  {
   "cell_type": "code",
   "execution_count": 24,
   "id": "f6220d4b",
   "metadata": {},
   "outputs": [],
   "source": [
    "def tensor_to_image(tensor):\n",
    "    if isinstance(tensor, torch.Tensor):\n",
    "        tensor = tensor.detach().cpu().numpy()\n",
    "\n",
    "    if tensor.ndim != 2:\n",
    "        raise ValueError(\"Each tensor must be 2D (grayscale).\")\n",
    "\n",
    "    # Normalize to [0, 1]\n",
    "    tensor_min = np.min(tensor)\n",
    "    tensor_max = np.max(tensor)\n",
    "    if tensor_max > tensor_min:\n",
    "        image = (tensor - tensor_min) / (tensor_max - tensor_min)\n",
    "    else:\n",
    "        image = np.zeros_like(tensor)\n",
    "\n",
    "    return image\n"
   ]
  },
  {
   "cell_type": "code",
   "execution_count": 25,
   "id": "e7c4c08a",
   "metadata": {},
   "outputs": [
    {
     "data": {
      "image/png": "[encoded data removed]",
      "text/plain": [
       "<Figure size 400x400 with 1 Axes>"
      ]
     },
     "metadata": {},
     "output_type": "display_data"
    }
   ],
   "source": [
    "image = tensor_to_image(image)\n",
    "plt.figure(figsize=(4, 4))\n",
    "plt.imshow(image, cmap='gray')\n",
    "plt.axis('off')\n",
    "plt.show()"
   ]
  },
  {
   "cell_type": "code",
   "execution_count": 26,
   "id": "a852acff",
   "metadata": {},
   "outputs": [
    {
     "name": "stdout",
     "output_type": "stream",
     "text": [
      "torch.Size([1, 64, 1, 4, 4])\n"
     ]
    }
   ],
   "source": [
    "print(pieces.shape)"
   ]
  },
  {
   "cell_type": "code",
   "execution_count": 27,
   "id": "d4265843",
   "metadata": {},
   "outputs": [],
   "source": [
    "def plot_tensor_grid(img_tensor, cmap='gray', ncols=cfg.pieces, save_path=None, show=True, size=0.5):\n",
    "    tensor_list = []\n",
    "    for i in range(img_tensor.shape[0]):\n",
    "        tensor_list.append(img_tensor[i])\n",
    "    n = len(tensor_list)\n",
    "    nrows = int(np.ceil(n / ncols))\n",
    "\n",
    "    fig, axes = plt.subplots(nrows, ncols, figsize=(ncols * size, nrows * size))\n",
    "    axes = np.array(axes).reshape(nrows, ncols)\n",
    "\n",
    "    for idx, tensor in enumerate(tensor_list):\n",
    "        row = idx // ncols\n",
    "        col = idx % ncols\n",
    "        img = tensor_to_image(tensor)\n",
    "        axes[row, col].imshow(img, cmap=cmap)\n",
    "        axes[row, col].axis('off')\n",
    "\n",
    "    # Hide any unused subplots\n",
    "    for i in range(n, nrows * ncols):\n",
    "        row = i // ncols\n",
    "        col = i % ncols\n",
    "        axes[row, col].axis('off')\n",
    "\n",
    "    plt.tight_layout()\n",
    "    if save_path:\n",
    "        plt.savefig(save_path, bbox_inches='tight')\n",
    "    if show:\n",
    "        plt.show()"
   ]
  },
  {
   "cell_type": "code",
   "execution_count": 28,
   "id": "073ac77a",
   "metadata": {},
   "outputs": [
    {
     "data": {
      "image/png": "[encoded data removed]",
      "text/plain": [
       "<Figure size 400x400 with 64 Axes>"
      ]
     },
     "metadata": {},
     "output_type": "display_data"
    }
   ],
   "source": [
    "plot_tensor_grid(pieces[0, :, 0, :, :], size=0.5)"
   ]
  },
  {
   "cell_type": "code",
   "execution_count": 29,
   "id": "ae856f46",
   "metadata": {},
   "outputs": [
    {
     "data": {
      "image/png": "[encoded data removed]",
      "text/plain": [
       "<Figure size 400x400 with 64 Axes>"
      ]
     },
     "metadata": {},
     "output_type": "display_data"
    }
   ],
   "source": [
    "plot_tensor_grid(random_pieces[0, :, 0, :])"
   ]
  },
  {
   "cell_type": "code",
   "execution_count": 30,
   "id": "75077275",
   "metadata": {},
   "outputs": [],
   "source": [
    "def stack_patches_in_group(x):\n",
    "    B, G, N, C, H, W = x.shape\n",
    "    assert N == 4, \"This function assumes stacking 4 patches (2x2 grid)\"\n",
    "\n",
    "    # Reshape to (B*G, 4, C, H, W)\n",
    "    x = x.view(B * G, 4, C, H, W)\n",
    "\n",
    "    # Arrange the 4 patches into a 2x2 grid\n",
    "    top = torch.cat([x[:, 0], x[:, 1]], dim=3)  # (B*G, C, H, 2*W)\n",
    "    bottom = torch.cat([x[:, 2], x[:, 3]], dim=3)\n",
    "    stacked = torch.cat([top, bottom], dim=2)  # (B*G, C, 2*H, 2*W)\n",
    "\n",
    "    return stacked.view(B, G, C, 2 * H, 2 * W)\n",
    "\n",
    "def unstack_patches_in_group(x):\n",
    "    B, G, C, H, W = x.shape\n",
    "    assert H % 2 == 0 and W % 2 == 0, \"H and W must be even\"\n",
    "\n",
    "    h, w = H // 2, W // 2\n",
    "    x = x.view(B * G, C, H, W)\n",
    "\n",
    "    # Extract the 4 patches\n",
    "    patch_0 = x[:, :, :h, :w]  # top-left\n",
    "    patch_1 = x[:, :, :h, w:]  # top-right\n",
    "    patch_2 = x[:, :, h:, :w]  # bottom-left\n",
    "    patch_3 = x[:, :, h:, w:]  # bottom-right\n",
    "\n",
    "    unstacked = torch.stack([patch_0, patch_1, patch_2, patch_3], dim=1)  # (B*G, 4, C, h, w)\n",
    "    return unstacked.view(B, G, 4, C, h, w)\n"
   ]
  },
  {
   "cell_type": "code",
   "execution_count": 31,
   "id": "6f6cbb01",
   "metadata": {},
   "outputs": [
    {
     "data": {
      "image/png": "[encoded data removed]",
      "text/plain": [
       "<Figure size 400x400 with 64 Axes>"
      ]
     },
     "metadata": {},
     "output_type": "display_data"
    },
    {
     "name": "stdout",
     "output_type": "stream",
     "text": [
      "Group 1\n",
      "Random Ordered\n"
     ]
    },
    {
     "data": {
      "image/png": "[encoded data removed]",
      "text/plain": [
       "<Figure size 400x50 with 8 Axes>"
      ]
     },
     "metadata": {},
     "output_type": "display_data"
    },
    {
     "name": "stdout",
     "output_type": "stream",
     "text": [
      "Ordered patches in a group\n"
     ]
    },
    {
     "data": {
      "image/png": "[encoded data removed]",
      "text/plain": [
       "<Figure size 400x50 with 8 Axes>"
      ]
     },
     "metadata": {},
     "output_type": "display_data"
    },
    {
     "name": "stdout",
     "output_type": "stream",
     "text": [
      "Group 2\n",
      "Random Ordered\n"
     ]
    },
    {
     "data": {
      "image/png": "[encoded data removed]",
      "text/plain": [
       "<Figure size 400x50 with 8 Axes>"
      ]
     },
     "metadata": {},
     "output_type": "display_data"
    },
    {
     "name": "stdout",
     "output_type": "stream",
     "text": [
      "Ordered patches in a group\n"
     ]
    },
    {
     "data": {
      "image/png": "[encoded data removed]",
      "text/plain": [
       "<Figure size 400x50 with 8 Axes>"
      ]
     },
     "metadata": {},
     "output_type": "display_data"
    },
    {
     "name": "stdout",
     "output_type": "stream",
     "text": [
      "Group 3\n",
      "Random Ordered\n"
     ]
    },
    {
     "data": {
      "image/png": "[encoded data removed]",
      "text/plain": [
       "<Figure size 400x50 with 8 Axes>"
      ]
     },
     "metadata": {},
     "output_type": "display_data"
    },
    {
     "name": "stdout",
     "output_type": "stream",
     "text": [
      "Ordered patches in a group\n"
     ]
    },
    {
     "data": {
      "image/png": "[encoded data removed]",
      "text/plain": [
       "<Figure size 400x50 with 8 Axes>"
      ]
     },
     "metadata": {},
     "output_type": "display_data"
    },
    {
     "name": "stdout",
     "output_type": "stream",
     "text": [
      "Group 4\n",
      "Random Ordered\n"
     ]
    },
    {
     "data": {
      "image/png": "[encoded data removed]",
      "text/plain": [
       "<Figure size 400x50 with 8 Axes>"
      ]
     },
     "metadata": {},
     "output_type": "display_data"
    },
    {
     "name": "stdout",
     "output_type": "stream",
     "text": [
      "Ordered patches in a group\n"
     ]
    },
    {
     "data": {
      "image/png": "[encoded data removed]",
      "text/plain": [
       "<Figure size 400x50 with 8 Axes>"
      ]
     },
     "metadata": {},
     "output_type": "display_data"
    },
    {
     "name": "stdout",
     "output_type": "stream",
     "text": [
      "Group 5\n",
      "Random Ordered\n"
     ]
    },
    {
     "data": {
      "image/png": "[encoded data removed]",
      "text/plain": [
       "<Figure size 400x50 with 8 Axes>"
      ]
     },
     "metadata": {},
     "output_type": "display_data"
    },
    {
     "name": "stdout",
     "output_type": "stream",
     "text": [
      "Ordered patches in a group\n"
     ]
    },
    {
     "data": {
      "image/png": "[encoded data removed]",
      "text/plain": [
       "<Figure size 400x50 with 8 Axes>"
      ]
     },
     "metadata": {},
     "output_type": "display_data"
    },
    {
     "name": "stdout",
     "output_type": "stream",
     "text": [
      "Group 6\n",
      "Random Ordered\n"
     ]
    },
    {
     "data": {
      "image/png": "[encoded data removed]",
      "text/plain": [
       "<Figure size 400x50 with 8 Axes>"
      ]
     },
     "metadata": {},
     "output_type": "display_data"
    },
    {
     "name": "stdout",
     "output_type": "stream",
     "text": [
      "Ordered patches in a group\n"
     ]
    },
    {
     "data": {
      "image/png": "[encoded data removed]",
      "text/plain": [
       "<Figure size 400x50 with 8 Axes>"
      ]
     },
     "metadata": {},
     "output_type": "display_data"
    },
    {
     "name": "stdout",
     "output_type": "stream",
     "text": [
      "Group 7\n",
      "Random Ordered\n"
     ]
    },
    {
     "data": {
      "image/png": "[encoded data removed]",
      "text/plain": [
       "<Figure size 400x50 with 8 Axes>"
      ]
     },
     "metadata": {},
     "output_type": "display_data"
    },
    {
     "name": "stdout",
     "output_type": "stream",
     "text": [
      "Ordered patches in a group\n"
     ]
    },
    {
     "data": {
      "image/png": "[encoded data removed]",
      "text/plain": [
       "<Figure size 400x50 with 8 Axes>"
      ]
     },
     "metadata": {},
     "output_type": "display_data"
    },
    {
     "name": "stdout",
     "output_type": "stream",
     "text": [
      "Group 8\n",
      "Random Ordered\n"
     ]
    },
    {
     "data": {
      "image/png": "[encoded data removed]",
      "text/plain": [
       "<Figure size 400x50 with 8 Axes>"
      ]
     },
     "metadata": {},
     "output_type": "display_data"
    },
    {
     "name": "stdout",
     "output_type": "stream",
     "text": [
      "Ordered patches in a group\n"
     ]
    },
    {
     "data": {
      "image/png": "[encoded data removed]",
      "text/plain": [
       "<Figure size 400x50 with 8 Axes>"
      ]
     },
     "metadata": {},
     "output_type": "display_data"
    },
    {
     "name": "stdout",
     "output_type": "stream",
     "text": [
      "Group 9\n",
      "Random Ordered\n"
     ]
    },
    {
     "data": {
      "image/png": "[encoded data removed]",
      "text/plain": [
       "<Figure size 400x50 with 8 Axes>"
      ]
     },
     "metadata": {},
     "output_type": "display_data"
    },
    {
     "name": "stdout",
     "output_type": "stream",
     "text": [
      "Ordered patches in a group\n"
     ]
    },
    {
     "data": {
      "image/png": "[encoded data removed]",
      "text/plain": [
       "<Figure size 400x50 with 8 Axes>"
      ]
     },
     "metadata": {},
     "output_type": "display_data"
    },
    {
     "name": "stdout",
     "output_type": "stream",
     "text": [
      "Group 10\n",
      "Random Ordered\n"
     ]
    },
    {
     "data": {
      "image/png": "[encoded data removed]",
      "text/plain": [
       "<Figure size 400x50 with 8 Axes>"
      ]
     },
     "metadata": {},
     "output_type": "display_data"
    },
    {
     "name": "stdout",
     "output_type": "stream",
     "text": [
      "Ordered patches in a group\n"
     ]
    },
    {
     "data": {
      "image/png": "[encoded data removed]",
      "text/plain": [
       "<Figure size 400x50 with 8 Axes>"
      ]
     },
     "metadata": {},
     "output_type": "display_data"
    },
    {
     "name": "stdout",
     "output_type": "stream",
     "text": [
      "Group 11\n",
      "Random Ordered\n"
     ]
    },
    {
     "data": {
      "image/png": "[encoded data removed]",
      "text/plain": [
       "<Figure size 400x50 with 8 Axes>"
      ]
     },
     "metadata": {},
     "output_type": "display_data"
    },
    {
     "name": "stdout",
     "output_type": "stream",
     "text": [
      "Ordered patches in a group\n"
     ]
    },
    {
     "data": {
      "image/png": "[encoded data removed]",
      "text/plain": [
       "<Figure size 400x50 with 8 Axes>"
      ]
     },
     "metadata": {},
     "output_type": "display_data"
    },
    {
     "name": "stdout",
     "output_type": "stream",
     "text": [
      "Group 12\n",
      "Random Ordered\n"
     ]
    },
    {
     "data": {
      "image/png": "[encoded data removed]",
      "text/plain": [
       "<Figure size 400x50 with 8 Axes>"
      ]
     },
     "metadata": {},
     "output_type": "display_data"
    },
    {
     "name": "stdout",
     "output_type": "stream",
     "text": [
      "Ordered patches in a group\n"
     ]
    },
    {
     "data": {
      "image/png": "[encoded data removed]",
      "text/plain": [
       "<Figure size 400x50 with 8 Axes>"
      ]
     },
     "metadata": {},
     "output_type": "display_data"
    },
    {
     "name": "stdout",
     "output_type": "stream",
     "text": [
      "Group 13\n",
      "Random Ordered\n"
     ]
    },
    {
     "data": {
      "image/png": "[encoded data removed]",
      "text/plain": [
       "<Figure size 400x50 with 8 Axes>"
      ]
     },
     "metadata": {},
     "output_type": "display_data"
    },
    {
     "name": "stdout",
     "output_type": "stream",
     "text": [
      "Ordered patches in a group\n"
     ]
    },
    {
     "data": {
      "image/png": "[encoded data removed]",
      "text/plain": [
       "<Figure size 400x50 with 8 Axes>"
      ]
     },
     "metadata": {},
     "output_type": "display_data"
    },
    {
     "name": "stdout",
     "output_type": "stream",
     "text": [
      "Group 14\n",
      "Random Ordered\n"
     ]
    },
    {
     "data": {
      "image/png": "[encoded data removed]",
      "text/plain": [
       "<Figure size 400x50 with 8 Axes>"
      ]
     },
     "metadata": {},
     "output_type": "display_data"
    },
    {
     "name": "stdout",
     "output_type": "stream",
     "text": [
      "Ordered patches in a group\n"
     ]
    },
    {
     "data": {
      "image/png": "[encoded data removed]",
      "text/plain": [
       "<Figure size 400x50 with 8 Axes>"
      ]
     },
     "metadata": {},
     "output_type": "display_data"
    },
    {
     "name": "stdout",
     "output_type": "stream",
     "text": [
      "Group 15\n",
      "Random Ordered\n"
     ]
    },
    {
     "data": {
      "image/png": "[encoded data removed]",
      "text/plain": [
       "<Figure size 400x50 with 8 Axes>"
      ]
     },
     "metadata": {},
     "output_type": "display_data"
    },
    {
     "name": "stdout",
     "output_type": "stream",
     "text": [
      "Ordered patches in a group\n"
     ]
    },
    {
     "data": {
      "image/png": "[encoded data removed]",
      "text/plain": [
       "<Figure size 400x50 with 8 Axes>"
      ]
     },
     "metadata": {},
     "output_type": "display_data"
    },
    {
     "name": "stdout",
     "output_type": "stream",
     "text": [
      "Group 16\n",
      "Random Ordered\n"
     ]
    },
    {
     "data": {
      "image/png": "[encoded data removed]",
      "text/plain": [
       "<Figure size 400x50 with 8 Axes>"
      ]
     },
     "metadata": {},
     "output_type": "display_data"
    },
    {
     "name": "stdout",
     "output_type": "stream",
     "text": [
      "Ordered patches in a group\n"
     ]
    },
    {
     "data": {
      "image/png": "[encoded data removed]",
      "text/plain": [
       "<Figure size 400x50 with 8 Axes>"
      ]
     },
     "metadata": {},
     "output_type": "display_data"
    }
   ],
   "source": [
    "with torch.no_grad():    \n",
    "    group_ordered_patches = []\n",
    "    patch_order_list = []\n",
    "    batch_size = inputs.size(0)\n",
    "    plot_tensor_grid(random_pieces[0, :, 0, :])\n",
    "    # random_group_pieces = model_grouping(random_pieces, training=False)\n",
    "    patch_groups_indices = get_groups(random_pieces.view(-1, *random_pieces.shape[2:]), batch_size, num_groups=cfg.groups**2)\n",
    "    for g in range(cfg.groups**2):\n",
    "        print(f\"Group {g+1}\")\n",
    "        group_indices = patch_groups_indices[:, g, :].reshape(-1)\n",
    "        group_random_patches = random_pieces.view(-1, *random_pieces.shape[2:])[group_indices]\n",
    "        group_random_patches = group_random_patches.view(batch_size, -1, *group_random_patches.shape[1:])\n",
    "        # group_random_patches = random_group_pieces[:, g, :]\n",
    "        \n",
    "        print(\"Random Ordered\")\n",
    "        plot_tensor_grid(group_random_patches[0, :, 0, :])\n",
    "        \n",
    "\n",
    "        log_alpha_patch = model_patch(group_random_patches)\n",
    "        patch_order_list.append(log_alpha_patch)\n",
    "        gumbel_sinkhorn_mat = gumbel_sinkhorn_ops.gumbel_matching(log_alpha_patch, noise=False) \n",
    "        #gumbel_sinkhorn_mat = gumbel_sinkhorn_ops.gumbel_sinkhorn(log_alpha_patch, cfg.tau, cfg.n_sink_iter)\n",
    "        group_ordered_pieces = gumbel_sinkhorn_ops.inverse_permutation_for_image(group_random_patches, gumbel_sinkhorn_mat)\n",
    "        group_ordered_patches.append(group_ordered_pieces)\n",
    "\n",
    "        print(\"Ordered patches in a group\")\n",
    "        plot_tensor_grid(group_ordered_pieces[0, :, 0, :])\n",
    "    "
   ]
  },
  {
   "cell_type": "code",
   "execution_count": 32,
   "id": "474d36ee",
   "metadata": {},
   "outputs": [
    {
     "name": "stdout",
     "output_type": "stream",
     "text": [
      "torch.Size([1, 16, 4, 1, 4, 4])\n",
      "torch.Size([1, 16, 1, 8, 8])\n",
      "Random Group ordering\n"
     ]
    },
    {
     "data": {
      "image/png": "[encoded data removed]",
      "text/plain": [
       "<Figure size 1200x300 with 16 Axes>"
      ]
     },
     "metadata": {},
     "output_type": "display_data"
    },
    {
     "name": "stdout",
     "output_type": "stream",
     "text": [
      "Ordered Groups\n"
     ]
    },
    {
     "data": {
      "image/png": "[encoded data removed]",
      "text/plain": [
       "<Figure size 1200x300 with 16 Axes>"
      ]
     },
     "metadata": {},
     "output_type": "display_data"
    }
   ],
   "source": [
    "import copy\n",
    "group_vectors_tensor = torch.stack(group_ordered_patches, dim=1)  # (B, G, D, 1)\n",
    "print(group_vectors_tensor.shape)\n",
    "random_groups = stack_patches_in_group(group_vectors_tensor)\n",
    "print(random_groups.shape)\n",
    "\n",
    "print(\"Random Group ordering\")\n",
    "plot_tensor_grid(random_groups[0, :, 0, :], size=1.5)\n",
    "\n",
    "log_alpha_group = model_group(random_groups)\n",
    "gumbel_sinkhorn_mat = gumbel_sinkhorn_ops.gumbel_matching(log_alpha_group, noise=False) \n",
    "#gumbel_sinkhorn_mat = gumbel_sinkhorn_ops.gumbel_sinkhorn(log_alpha_group, cfg.tau, cfg.n_sink_iter)\n",
    "ordered_groups = gumbel_sinkhorn_ops.inverse_permutation_for_image(random_groups, gumbel_sinkhorn_mat)\n",
    "tmp = copy.deepcopy(ordered_groups[0, 9, 0, :])\n",
    "ordered_groups[0, 9, 0, :] = copy.deepcopy(ordered_groups[0, 10, 0, :])\n",
    "ordered_groups[0, 10, 0, :] = copy.deepcopy(tmp)\n",
    "print(\"Ordered Groups\")\n",
    "plot_tensor_grid(ordered_groups[0, :, 0, :], size=1.5)\n"
   ]
  },
  {
   "cell_type": "code",
   "execution_count": 33,
   "id": "ec42a99b",
   "metadata": {},
   "outputs": [
    {
     "name": "stdout",
     "output_type": "stream",
     "text": [
      "torch.Size([1, 1, 32, 32])\n"
     ]
    },
    {
     "data": {
      "image/png": "[encoded data removed]",
      "text/plain": [
       "<Figure size 400x400 with 64 Axes>"
      ]
     },
     "metadata": {},
     "output_type": "display_data"
    }
   ],
   "source": [
    "n = ordered_groups.shape[0]\n",
    "full_imgs = reconstruct_image_from_groups(ordered_groups)\n",
    "print(full_imgs.shape)\n",
    "\n",
    "est_ordered_pieces, _, _ = batch_tch_divide_image(full_imgs, cfg.pieces)\n",
    "plot_tensor_grid(est_ordered_pieces[0, :, 0, :])\n"
   ]
  },
  {
   "cell_type": "code",
   "execution_count": 34,
   "id": "7f8f9298",
   "metadata": {},
   "outputs": [
    {
     "data": {
      "image/png": "[encoded data removed]",
      "text/plain": [
       "<Figure size 400x400 with 1 Axes>"
      ]
     },
     "metadata": {},
     "output_type": "display_data"
    }
   ],
   "source": [
    "image = tensor_to_image(full_imgs[0, 0, :])\n",
    "plt.figure(figsize=(4, 4))\n",
    "plt.imshow(image, cmap='gray')\n",
    "plt.axis('off')\n",
    "plt.show()"
   ]
  },
  {
   "cell_type": "code",
   "execution_count": null,
   "id": "3c88acda",
   "metadata": {},
   "outputs": [],
   "source": []
  }
 ],
 "metadata": {
  "kernelspec": {
   "display_name": "gnr1",
   "language": "python",
   "name": "python3"
  },
  "language_info": {
   "codemirror_mode": {
    "name": "ipython",
    "version": 3
   },
   "file_extension": ".py",
   "mimetype": "text/x-python",
   "name": "python",
   "nbconvert_exporter": "python",
   "pygments_lexer": "ipython3",
   "version": "3.7.12"
  }
 },
 "nbformat": 4,
 "nbformat_minor": 5
}
